{
 "cells": [
  {
   "cell_type": "raw",
   "id": "520baa67",
   "metadata": {},
   "source": [
    "1. what is exactly is []?"
   ]
  },
  {
   "cell_type": "raw",
   "id": "cd8f673a",
   "metadata": {},
   "source": [
    "ans : the empty list value, which is a list value that  contain no items. This is similar to how\"is the empty string value."
   ]
  },
  {
   "cell_type": "code",
   "execution_count": null,
   "id": "9d285d36",
   "metadata": {},
   "outputs": [],
   "source": []
  },
  {
   "cell_type": "code",
   "execution_count": null,
   "id": "fa97359f",
   "metadata": {},
   "outputs": [],
   "source": []
  },
  {
   "cell_type": "raw",
   "id": "627e325b",
   "metadata": {},
   "source": [
    "2. in a list of value stored in a variable called spam, how would you assign the value \"hello\" as the third value?(assum[2,4,6,8,10] are in spam.)?"
   ]
  },
  {
   "cell_type": "raw",
   "id": "ea6a315c",
   "metadata": {},
   "source": [
    "ans: spam[2]= \"hello\"(notice that the third value in a list is at index 2 because the first index is 0)"
   ]
  },
  {
   "cell_type": "code",
   "execution_count": null,
   "id": "214e636c",
   "metadata": {},
   "outputs": [],
   "source": []
  },
  {
   "cell_type": "code",
   "execution_count": null,
   "id": "ea92192d",
   "metadata": {},
   "outputs": [],
   "source": []
  },
  {
   "cell_type": "raw",
   "id": "6318ebcc",
   "metadata": {},
   "source": [
    "3. what is the value of spam[int(int('3'*2)/11)]?"
   ]
  },
  {
   "cell_type": "raw",
   "id": "f39405f4",
   "metadata": {},
   "source": [
    "ans:'d'(note that '3'*2 is the string \"33\",which is passed to int()before being divided by 11. this eventually evalutes to 3. expressions can be used wherever value are used."
   ]
  },
  {
   "cell_type": "code",
   "execution_count": null,
   "id": "f6c803ff",
   "metadata": {},
   "outputs": [],
   "source": []
  },
  {
   "cell_type": "code",
   "execution_count": null,
   "id": "a85f8f7f",
   "metadata": {},
   "outputs": [],
   "source": []
  },
  {
   "cell_type": "raw",
   "id": "cd83d17b",
   "metadata": {},
   "source": [
    "4. what is the value of spam[-1]?"
   ]
  },
  {
   "cell_type": "raw",
   "id": "626cbd2a",
   "metadata": {},
   "source": [
    "ans:'d' (negative indexes count from the end.)exapmle"
   ]
  },
  {
   "cell_type": "code",
   "execution_count": 2,
   "id": "132fdd81",
   "metadata": {},
   "outputs": [],
   "source": [
    "a= 23,34,\"nyra\",2+1j,44"
   ]
  },
  {
   "cell_type": "code",
   "execution_count": 3,
   "id": "d909cb66",
   "metadata": {},
   "outputs": [
    {
     "data": {
      "text/plain": [
       "(44, (2+1j), 'nyra', 34, 23)"
      ]
     },
     "execution_count": 3,
     "metadata": {},
     "output_type": "execute_result"
    }
   ],
   "source": [
    "a[::-1]"
   ]
  },
  {
   "cell_type": "code",
   "execution_count": null,
   "id": "f7af91ed",
   "metadata": {},
   "outputs": [],
   "source": []
  },
  {
   "cell_type": "code",
   "execution_count": null,
   "id": "e10836c8",
   "metadata": {},
   "outputs": [],
   "source": []
  },
  {
   "cell_type": "raw",
   "id": "24ce4423",
   "metadata": {},
   "source": [
    "5. what does spam[:2]evaluate to?\n",
    "for the following three question,lets say bacon contain the list [3.14,\"cat\",11,\"cat\",True]?"
   ]
  },
  {
   "cell_type": "raw",
   "id": "94363f20",
   "metadata": {},
   "source": [
    "ans: ['a','b']"
   ]
  },
  {
   "cell_type": "code",
   "execution_count": null,
   "id": "55c025f7",
   "metadata": {},
   "outputs": [],
   "source": []
  },
  {
   "cell_type": "code",
   "execution_count": null,
   "id": "82871433",
   "metadata": {},
   "outputs": [],
   "source": []
  },
  {
   "cell_type": "raw",
   "id": "15f24755",
   "metadata": {},
   "source": [
    "6.what does bacon.index('cat') evaluate to?"
   ]
  },
  {
   "cell_type": "raw",
   "id": "15fe5655",
   "metadata": {},
   "source": [
    "ans: 1"
   ]
  },
  {
   "cell_type": "raw",
   "id": "6dd4fab8",
   "metadata": {},
   "source": [
    "bacon=[3.14,\"cat\",11,\"cat\",True]"
   ]
  },
  {
   "cell_type": "raw",
   "id": "30d41b6d",
   "metadata": {},
   "source": [
    "bacon[cat]"
   ]
  },
  {
   "cell_type": "code",
   "execution_count": null,
   "id": "bfc1e071",
   "metadata": {},
   "outputs": [],
   "source": []
  },
  {
   "cell_type": "raw",
   "id": "2e411dd7",
   "metadata": {},
   "source": [
    "7.what doed bacon.append(99) make the list value in bacon look like?"
   ]
  },
  {
   "cell_type": "raw",
   "id": "890d3910",
   "metadata": {},
   "source": [
    "ans.:[3.14,11,'cat',True,99]"
   ]
  },
  {
   "cell_type": "code",
   "execution_count": null,
   "id": "3dae489f",
   "metadata": {},
   "outputs": [],
   "source": []
  },
  {
   "cell_type": "code",
   "execution_count": null,
   "id": "4b15b1d9",
   "metadata": {},
   "outputs": [],
   "source": []
  },
  {
   "cell_type": "raw",
   "id": "733778a6",
   "metadata": {},
   "source": [
    "8.how does bacon remove('cat')change the look of the list in bacon?"
   ]
  },
  {
   "cell_type": "raw",
   "id": "5e4426f0",
   "metadata": {},
   "source": [
    "ans: [314,11,'cat',True]"
   ]
  },
  {
   "cell_type": "code",
   "execution_count": null,
   "id": "0cddbbf4",
   "metadata": {},
   "outputs": [],
   "source": []
  },
  {
   "cell_type": "code",
   "execution_count": null,
   "id": "5ace2e4c",
   "metadata": {},
   "outputs": [],
   "source": []
  },
  {
   "cell_type": "raw",
   "id": "2ef834ac",
   "metadata": {},
   "source": [
    "9.what are the list concatentaion and list replication operators?"
   ]
  },
  {
   "cell_type": "raw",
   "id": "17bffa26",
   "metadata": {},
   "source": [
    "ans:The operator for list concatenation is +,while the operator for replication is *.(This is same as for string.)"
   ]
  },
  {
   "cell_type": "code",
   "execution_count": null,
   "id": "a3bd7434",
   "metadata": {},
   "outputs": [],
   "source": []
  },
  {
   "cell_type": "code",
   "execution_count": null,
   "id": "46a6dc57",
   "metadata": {},
   "outputs": [],
   "source": []
  },
  {
   "cell_type": "raw",
   "id": "066f3afb",
   "metadata": {},
   "source": [
    "10.what is differnt between the list method append() and insert()?"
   ]
  },
  {
   "cell_type": "raw",
   "id": "55532b00",
   "metadata": {},
   "source": [
    "ans:while append() will add values only to the end of a list, insert()can add them anywhere in the list."
   ]
  },
  {
   "cell_type": "code",
   "execution_count": null,
   "id": "0f7fe0bd",
   "metadata": {},
   "outputs": [],
   "source": []
  },
  {
   "cell_type": "code",
   "execution_count": null,
   "id": "c34d36d2",
   "metadata": {},
   "outputs": [],
   "source": []
  },
  {
   "cell_type": "raw",
   "id": "2a555638",
   "metadata": {},
   "source": [
    "11. What are two methods for removing items from a list?"
   ]
  },
  {
   "cell_type": "raw",
   "id": "2698c0c9",
   "metadata": {},
   "source": [
    "ans:the del statement and theremove()list method are two ways to remove values from a list."
   ]
  },
  {
   "cell_type": "code",
   "execution_count": null,
   "id": "81b5e01c",
   "metadata": {},
   "outputs": [],
   "source": []
  },
  {
   "cell_type": "code",
   "execution_count": null,
   "id": "009543ac",
   "metadata": {},
   "outputs": [],
   "source": []
  },
  {
   "cell_type": "raw",
   "id": "6ac00b3d",
   "metadata": {},
   "source": [
    "12.Describe how list values and string values are idential?"
   ]
  },
  {
   "cell_type": "raw",
   "id": "a10b6a81",
   "metadata": {},
   "source": [
    "ans:Both lists and strings can be passed to len(),have indexes and slice,be used in for lops, be concatenated or replicated, and be used with the in and not in operators."
   ]
  },
  {
   "cell_type": "code",
   "execution_count": null,
   "id": "1f025024",
   "metadata": {},
   "outputs": [],
   "source": []
  },
  {
   "cell_type": "code",
   "execution_count": null,
   "id": "38430443",
   "metadata": {},
   "outputs": [],
   "source": []
  },
  {
   "cell_type": "raw",
   "id": "febe5717",
   "metadata": {},
   "source": [
    "13.whst is the difference between tuples and lists?"
   ]
  },
  {
   "cell_type": "raw",
   "id": "ba227b0a",
   "metadata": {},
   "source": [
    "ans:List are mutable, they can have values added,removed,or changed.Tuples are immutable, they cannot be changed at all.Also,tuples are written using parentheses,(and),while lists use the square bracket,[and]."
   ]
  },
  {
   "cell_type": "code",
   "execution_count": null,
   "id": "64be15cf",
   "metadata": {},
   "outputs": [],
   "source": []
  },
  {
   "cell_type": "code",
   "execution_count": null,
   "id": "71661886",
   "metadata": {},
   "outputs": [],
   "source": []
  },
  {
   "cell_type": "raw",
   "id": "57a7d6c5",
   "metadata": {},
   "source": [
    "14.how do you type a tuple value that only contains the integer 42?"
   ]
  },
  {
   "cell_type": "raw",
   "id": "c80303a1",
   "metadata": {},
   "source": [
    "ans: (42,)(The trailing comma is mandatory.)"
   ]
  },
  {
   "cell_type": "code",
   "execution_count": null,
   "id": "ccc21d4f",
   "metadata": {},
   "outputs": [],
   "source": []
  },
  {
   "cell_type": "code",
   "execution_count": null,
   "id": "f366a1dd",
   "metadata": {},
   "outputs": [],
   "source": []
  },
  {
   "cell_type": "raw",
   "id": "9c46f1a0",
   "metadata": {},
   "source": [
    "15. how do you get a list values tuple form?how do you get a tuple values list form?"
   ]
  },
  {
   "cell_type": "raw",
   "id": "36d73fbc",
   "metadata": {},
   "source": [
    "ans:The tuple() and list() Functions,respectively"
   ]
  },
  {
   "cell_type": "code",
   "execution_count": null,
   "id": "32c991fe",
   "metadata": {},
   "outputs": [],
   "source": []
  },
  {
   "cell_type": "code",
   "execution_count": null,
   "id": "1bb1f7da",
   "metadata": {},
   "outputs": [],
   "source": []
  },
  {
   "cell_type": "raw",
   "id": "2aeb0412",
   "metadata": {},
   "source": [
    "16.Variables that \"contain\" list values are not necessarily lists themselves. Instead, what do they contain?"
   ]
  },
  {
   "cell_type": "raw",
   "id": "56e37174",
   "metadata": {},
   "source": [
    "ans:They contain references to list values."
   ]
  },
  {
   "cell_type": "code",
   "execution_count": null,
   "id": "546a8c00",
   "metadata": {},
   "outputs": [],
   "source": []
  },
  {
   "cell_type": "code",
   "execution_count": null,
   "id": "51490a84",
   "metadata": {},
   "outputs": [],
   "source": []
  },
  {
   "cell_type": "raw",
   "id": "ae1eea95",
   "metadata": {},
   "source": [
    "17.how do you distinguish between copy.copy()and copy.deepcopy?"
   ]
  },
  {
   "cell_type": "raw",
   "id": "1c77a327",
   "metadata": {},
   "source": [
    "ans:The copy.copy()function will do a shallow copy of a list, while the copy.deepcopy() function will do a deep copy of a list. That is, only copy.deepcopy()will duplicate any lists inside the list."
   ]
  },
  {
   "cell_type": "code",
   "execution_count": null,
   "id": "bae62b27",
   "metadata": {},
   "outputs": [],
   "source": []
  }
 ],
 "metadata": {
  "kernelspec": {
   "display_name": "Python 3",
   "language": "python",
   "name": "python3"
  },
  "language_info": {
   "codemirror_mode": {
    "name": "ipython",
    "version": 3
   },
   "file_extension": ".py",
   "mimetype": "text/x-python",
   "name": "python",
   "nbconvert_exporter": "python",
   "pygments_lexer": "ipython3",
   "version": "3.8.8"
  }
 },
 "nbformat": 4,
 "nbformat_minor": 5
}
